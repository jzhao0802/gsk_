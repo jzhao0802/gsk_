{
 "cells": [
  {
   "cell_type": "markdown",
   "metadata": {},
   "source": [
    "This file contains some functions for the QC steps. Functions are tested on an APC table.\n",
    "I assume the tables from different years are merged."
   ]
  },
  {
   "cell_type": "markdown",
   "metadata": {},
   "source": [
    "# Connection"
   ]
  },
  {
   "cell_type": "code",
   "execution_count": 383,
   "metadata": {
    "collapsed": true
   },
   "outputs": [],
   "source": [
    "import pandas as pd\n",
    "import matplotlib.pyplot as plt\n",
    "import pyodbc\n",
    "import sqlalchemy\n",
    "import numpy as np\n",
    "\n",
    "%matplotlib inline"
   ]
  },
  {
   "cell_type": "code",
   "execution_count": 349,
   "metadata": {},
   "outputs": [
    {
     "name": "stderr",
     "output_type": "stream",
     "text": [
      "/home/vsalvatelli/anaconda3/lib/python3.6/site-packages/sqlalchemy/connectors/pyodbc.py:92: SAWarning: No driver name specified; this is expected by PyODBC when using DSN-less connections\n",
      "  \"No driver name specified; \"\n"
     ]
    }
   ],
   "source": [
    "def connect():\n",
    "    return pyodbc.connect(\n",
    "        'DRIVER={/usr/lib/x86_64-linux-gnu/odbc/libtdsodbc.so}; SERVER=192.168.5.78;'\n",
    "        'DATABASE=IMS-NHSDigital;UID=sa;PWD=2HsxpmkDLSlHlT;port=1433;'\n",
    "        'TDS_Version=8.0;')\n",
    "engine = sqlalchemy.create_engine('mssql+pyodbc://', creator=connect)\n",
    "conn = engine.connect()"
   ]
  },
  {
   "cell_type": "markdown",
   "metadata": {},
   "source": [
    "# Check on positive patients"
   ]
  },
  {
   "cell_type": "markdown",
   "metadata": {},
   "source": [
    "Check that positive patients in IMS-NHSDigital database corresponds to the positive patients in Shieffield database (table from Flora) in terms of:\n",
    "\n",
    "* HES ID\n",
    "* birth year\n",
    "* gender\n",
    "* whether or not they had right heart catherer at Sheffield"
   ]
  },
  {
   "cell_type": "markdown",
   "metadata": {},
   "source": [
    "## Check that the HES IDs are the same"
   ]
  },
  {
   "cell_type": "code",
   "execution_count": 350,
   "metadata": {
    "collapsed": true
   },
   "outputs": [],
   "source": [
    "#collect unique HES_IDs from NHSDigital\n",
    "#Tablename will be something like APC_positive, hopefully all tables merged\n",
    "tablename='dbo.NIC58999_APC_Linkage_201299'\n",
    "label_ID= 'ENCRYPTED_HESID'\n",
    "\n",
    "query= 'SELECT ' + label_ID +' from ' + tablename\n",
    "\n",
    "positive_IDs= pd.read_sql(query, conn)['ENCRYPTED_HESID'].unique()"
   ]
  },
  {
   "cell_type": "code",
   "execution_count": 351,
   "metadata": {
    "collapsed": true
   },
   "outputs": [],
   "source": [
    "#read ID columns from reference file\n",
    "Sheffdb_tablename= '/home/vsalvatelli/SharedData/Patient_group_file_SQL_v2.xlsx'\n",
    "#there will be a 'ENCRYPTED_HESID' column\n",
    "Sheffdb_label_ID= 'STHFT_Study_ID'\n",
    "\n",
    "#these should be already unique IDs, but just in case\n",
    "Sheffield_pos_IDs=pd.read_excel(Sheffdb_tablename)[Sheffdb_label_ID].unique()"
   ]
  },
  {
   "cell_type": "code",
   "execution_count": 352,
   "metadata": {},
   "outputs": [
    {
     "data": {
      "text/plain": [
       "False"
      ]
     },
     "execution_count": 352,
     "metadata": {},
     "output_type": "execute_result"
    }
   ],
   "source": [
    "#basic test: is the number of patients the same?\n",
    "len(positive_IDs)==len(Sheffield_pos_IDs)"
   ]
  },
  {
   "cell_type": "code",
   "execution_count": 353,
   "metadata": {},
   "outputs": [
    {
     "data": {
      "text/plain": [
       "False"
      ]
     },
     "execution_count": 353,
     "metadata": {},
     "output_type": "execute_result"
    }
   ],
   "source": [
    "#second test: are the IDs the same?\n",
    "#if the two lists are identical this returns True (the order matters in the equivalence)\n",
    "import re\n",
    "def alphanumeric_sort(l):\n",
    "    \"\"\" Sorts the given iterable in the way that is expected.\n",
    "\n",
    "    Required arguments:\n",
    "    l -- The iterable to be sorted.\n",
    "    \"\"\"\n",
    "    \n",
    "    convert = lambda text: int(text) if text.isdigit() else text\n",
    "    alphanum_key = lambda key: [convert(c) for c in re.split('([0-9]+)', key)]\n",
    "    return sorted(l, key = alphanum_key)\n",
    "\n",
    "\n",
    "alphanumeric_sort(positive_IDs) == alphanumeric_sort(Sheffield_pos_IDs)"
   ]
  },
  {
   "cell_type": "code",
   "execution_count": 354,
   "metadata": {},
   "outputs": [
    {
     "data": {
      "text/plain": [
       "False"
      ]
     },
     "execution_count": 354,
     "metadata": {},
     "output_type": "execute_result"
    }
   ],
   "source": [
    "#if the previous test fails, we can check at least if Sheffield_pos_IDs is a subset of positive_IDs (or the opposite)\n",
    "set(positive_IDs).issubset(set(Sheffield_pos_IDs))"
   ]
  },
  {
   "cell_type": "markdown",
   "metadata": {},
   "source": [
    "## Check that birth date, gender and RHC@Sheffield are the same"
   ]
  },
  {
   "cell_type": "code",
   "execution_count": 355,
   "metadata": {},
   "outputs": [],
   "source": [
    "#collect info about positives from NHSDigital\n",
    "#Tablename will be something like APC_positive\n",
    "tablename='dbo.NIC58999_APC_Linkage_201299'\n",
    "label_ID= 'ENCRYPTED_HESID'\n",
    "date_birth= 'MYDOB'\n",
    "gender='SEX'\n",
    "hospital= 'PROCODE3'\n",
    "opertn= [\"OPERTN_0\" + str(i+1) for i in range(9)] + [\"OPERTN_\" + str(i+10) for i in range(15)]\n",
    "\n",
    "cols= [label_ID] + [date_birth] + [gender] + [hospital] + opertn\n",
    "query= 'SELECT ' + ','.join(cols) +' from ' + tablename \n",
    "\n",
    "df_NHS= pd.read_sql(query, conn)"
   ]
  },
  {
   "cell_type": "code",
   "execution_count": 356,
   "metadata": {},
   "outputs": [
    {
     "name": "stdout",
     "output_type": "stream",
     "text": [
      "(13266, 28)\n"
     ]
    },
    {
     "data": {
      "text/html": [
       "<div>\n",
       "<style>\n",
       "    .dataframe thead tr:only-child th {\n",
       "        text-align: right;\n",
       "    }\n",
       "\n",
       "    .dataframe thead th {\n",
       "        text-align: left;\n",
       "    }\n",
       "\n",
       "    .dataframe tbody tr th {\n",
       "        vertical-align: top;\n",
       "    }\n",
       "</style>\n",
       "<table border=\"1\" class=\"dataframe\">\n",
       "  <thead>\n",
       "    <tr style=\"text-align: right;\">\n",
       "      <th></th>\n",
       "      <th>ENCRYPTED_HESID</th>\n",
       "      <th>MYDOB</th>\n",
       "      <th>SEX</th>\n",
       "      <th>PROCODE3</th>\n",
       "      <th>OPERTN_01</th>\n",
       "      <th>OPERTN_02</th>\n",
       "      <th>OPERTN_03</th>\n",
       "      <th>OPERTN_04</th>\n",
       "      <th>OPERTN_05</th>\n",
       "      <th>OPERTN_06</th>\n",
       "      <th>...</th>\n",
       "      <th>OPERTN_15</th>\n",
       "      <th>OPERTN_16</th>\n",
       "      <th>OPERTN_17</th>\n",
       "      <th>OPERTN_18</th>\n",
       "      <th>OPERTN_19</th>\n",
       "      <th>OPERTN_20</th>\n",
       "      <th>OPERTN_21</th>\n",
       "      <th>OPERTN_22</th>\n",
       "      <th>OPERTN_23</th>\n",
       "      <th>OPERTN_24</th>\n",
       "    </tr>\n",
       "  </thead>\n",
       "  <tbody>\n",
       "    <tr>\n",
       "      <th>0</th>\n",
       "      <td>18BAC692C0C58B5EE7E7DFD8E6C843CC</td>\n",
       "      <td>121938</td>\n",
       "      <td>1</td>\n",
       "      <td>RWP</td>\n",
       "      <td>-</td>\n",
       "      <td></td>\n",
       "      <td></td>\n",
       "      <td></td>\n",
       "      <td></td>\n",
       "      <td></td>\n",
       "      <td>...</td>\n",
       "      <td></td>\n",
       "      <td></td>\n",
       "      <td></td>\n",
       "      <td></td>\n",
       "      <td></td>\n",
       "      <td></td>\n",
       "      <td></td>\n",
       "      <td></td>\n",
       "      <td></td>\n",
       "      <td></td>\n",
       "    </tr>\n",
       "    <tr>\n",
       "      <th>1</th>\n",
       "      <td>F6C2FA7F10D852FD1B9308FF1F0437A9</td>\n",
       "      <td>061945</td>\n",
       "      <td>2</td>\n",
       "      <td>RFS</td>\n",
       "      <td>M479</td>\n",
       "      <td></td>\n",
       "      <td></td>\n",
       "      <td></td>\n",
       "      <td></td>\n",
       "      <td></td>\n",
       "      <td>...</td>\n",
       "      <td></td>\n",
       "      <td></td>\n",
       "      <td></td>\n",
       "      <td></td>\n",
       "      <td></td>\n",
       "      <td></td>\n",
       "      <td></td>\n",
       "      <td></td>\n",
       "      <td></td>\n",
       "      <td></td>\n",
       "    </tr>\n",
       "    <tr>\n",
       "      <th>2</th>\n",
       "      <td>E2D507B62FFCEFBD2537D328D6539683</td>\n",
       "      <td>061934</td>\n",
       "      <td>2</td>\n",
       "      <td>RR8</td>\n",
       "      <td>-</td>\n",
       "      <td></td>\n",
       "      <td></td>\n",
       "      <td></td>\n",
       "      <td></td>\n",
       "      <td></td>\n",
       "      <td>...</td>\n",
       "      <td></td>\n",
       "      <td></td>\n",
       "      <td></td>\n",
       "      <td></td>\n",
       "      <td></td>\n",
       "      <td></td>\n",
       "      <td></td>\n",
       "      <td></td>\n",
       "      <td></td>\n",
       "      <td></td>\n",
       "    </tr>\n",
       "    <tr>\n",
       "      <th>3</th>\n",
       "      <td>950075F6906AA9E50AFAADD0023C818A</td>\n",
       "      <td>031959</td>\n",
       "      <td>1</td>\n",
       "      <td>REM</td>\n",
       "      <td>X352</td>\n",
       "      <td></td>\n",
       "      <td></td>\n",
       "      <td></td>\n",
       "      <td></td>\n",
       "      <td></td>\n",
       "      <td>...</td>\n",
       "      <td></td>\n",
       "      <td></td>\n",
       "      <td></td>\n",
       "      <td></td>\n",
       "      <td></td>\n",
       "      <td></td>\n",
       "      <td></td>\n",
       "      <td></td>\n",
       "      <td></td>\n",
       "      <td></td>\n",
       "    </tr>\n",
       "    <tr>\n",
       "      <th>4</th>\n",
       "      <td>F714475A05E6B6CD6ECE53EFCDD1A8C7</td>\n",
       "      <td>081960</td>\n",
       "      <td>2</td>\n",
       "      <td>RRF</td>\n",
       "      <td>X823</td>\n",
       "      <td></td>\n",
       "      <td></td>\n",
       "      <td></td>\n",
       "      <td></td>\n",
       "      <td></td>\n",
       "      <td>...</td>\n",
       "      <td></td>\n",
       "      <td></td>\n",
       "      <td></td>\n",
       "      <td></td>\n",
       "      <td></td>\n",
       "      <td></td>\n",
       "      <td></td>\n",
       "      <td></td>\n",
       "      <td></td>\n",
       "      <td></td>\n",
       "    </tr>\n",
       "  </tbody>\n",
       "</table>\n",
       "<p>5 rows × 28 columns</p>\n",
       "</div>"
      ],
      "text/plain": [
       "                    ENCRYPTED_HESID   MYDOB SEX PROCODE3 OPERTN_01 OPERTN_02  \\\n",
       "0  18BAC692C0C58B5EE7E7DFD8E6C843CC  121938   1      RWP         -             \n",
       "1  F6C2FA7F10D852FD1B9308FF1F0437A9  061945   2      RFS      M479             \n",
       "2  E2D507B62FFCEFBD2537D328D6539683  061934   2      RR8         -             \n",
       "3  950075F6906AA9E50AFAADD0023C818A  031959   1      REM      X352             \n",
       "4  F714475A05E6B6CD6ECE53EFCDD1A8C7  081960   2      RRF      X823             \n",
       "\n",
       "  OPERTN_03 OPERTN_04 OPERTN_05 OPERTN_06    ...    OPERTN_15 OPERTN_16  \\\n",
       "0                                            ...                          \n",
       "1                                            ...                          \n",
       "2                                            ...                          \n",
       "3                                            ...                          \n",
       "4                                            ...                          \n",
       "\n",
       "  OPERTN_17 OPERTN_18 OPERTN_19 OPERTN_20 OPERTN_21 OPERTN_22 OPERTN_23  \\\n",
       "0                                                                         \n",
       "1                                                                         \n",
       "2                                                                         \n",
       "3                                                                         \n",
       "4                                                                         \n",
       "\n",
       "  OPERTN_24  \n",
       "0            \n",
       "1            \n",
       "2            \n",
       "3            \n",
       "4            \n",
       "\n",
       "[5 rows x 28 columns]"
      ]
     },
     "execution_count": 356,
     "metadata": {},
     "output_type": "execute_result"
    }
   ],
   "source": [
    "print(df_NHS.shape)\n",
    "df_NHS.head(5)"
   ]
  },
  {
   "cell_type": "code",
   "execution_count": 357,
   "metadata": {},
   "outputs": [
    {
     "name": "stdout",
     "output_type": "stream",
     "text": [
      "3376\n",
      "4082\n"
     ]
    }
   ],
   "source": [
    "# RHQ is the procode3 for Sheffield Teaching Hospitals, \n",
    "#is this the right one? Or we need something more specific at 5 digit level?\n",
    "SHF_procode= 'RHQ'\n",
    "print(len(df_NHS['ENCRYPTED_HESID'].unique()))\n",
    "print(sum(df_NHS['PROCODE3']== SHF_procode))"
   ]
  },
  {
   "cell_type": "code",
   "execution_count": 358,
   "metadata": {},
   "outputs": [
    {
     "data": {
      "text/plain": [
       "RHQ    4082\n",
       "RR8     595\n",
       "RW3     571\n",
       "RR1     413\n",
       "REM     406\n",
       "Name: PROCODE3, dtype: int64"
      ]
     },
     "execution_count": 358,
     "metadata": {},
     "output_type": "execute_result"
    }
   ],
   "source": [
    "df_NHS['PROCODE3'].value_counts().head(5)"
   ]
  },
  {
   "cell_type": "code",
   "execution_count": 359,
   "metadata": {},
   "outputs": [
    {
     "name": "stdout",
     "output_type": "stream",
     "text": [
      "[612, 25, 3, 3, 8, 2, 0, 0, 0, 0, 0, 0, 0, 0, 0, 0, 0, 0, 0, 0, 0, 0, 0, 0]\n",
      "Total number of RHCs in dbo.NIC58999_APC_Linkage_201299: 653\n"
     ]
    }
   ],
   "source": [
    "#K65 corresponds to catherisation of hearth\n",
    "#K65.2 (dot not included in the field) is \"catherisation of right side of heart NEC\"\n",
    "RHC_code= 'K652'\n",
    "#checking that this code appears\n",
    "res=list()\n",
    "for name in opertn:\n",
    "    res.append(sum(df_NHS[name]== RHC_code))\n",
    "print(res)\n",
    "print('Total number of RHCs in {}: {}'.format(tablename,sum(res)))\n",
    "# I am still not checking if several RHCs belong s to the same patient"
   ]
  },
  {
   "cell_type": "code",
   "execution_count": 360,
   "metadata": {},
   "outputs": [
    {
     "data": {
      "text/plain": [
       "False    12613\n",
       "True       653\n",
       "Name: RHC, dtype: int64"
      ]
     },
     "execution_count": 360,
     "metadata": {},
     "output_type": "execute_result"
    }
   ],
   "source": [
    "#add column that says if there is RHC in the opertn cols\n",
    "#tried to automatically create list of conditions ... to much time to code\n",
    "#conditions=list()\n",
    "#for name in opertn:\n",
    "#    conditions.append(''.join(['df_NHS[\"', name,'\"]', '== \"'  ,RHC_code,'\"']))\n",
    "\n",
    "#seems reasonable to check only the first 10 cols (they are in order of priority)\n",
    "cond1= df_NHS[\"OPERTN_01\"]== RHC_code\n",
    "cond2= df_NHS[\"OPERTN_02\"]== RHC_code\n",
    "cond3= df_NHS[\"OPERTN_03\"]== RHC_code\n",
    "cond4= df_NHS[\"OPERTN_04\"]== RHC_code\n",
    "cond5= df_NHS[\"OPERTN_05\"]== RHC_code\n",
    "cond6= df_NHS[\"OPERTN_06\"]== RHC_code\n",
    "cond7= df_NHS[\"OPERTN_07\"]== RHC_code\n",
    "cond8= df_NHS[\"OPERTN_08\"]== RHC_code\n",
    "cond9= df_NHS[\"OPERTN_09\"]== RHC_code\n",
    "cond10= df_NHS[\"OPERTN_10\"]== RHC_code\n",
    "\n",
    "#df_NHS['RHC']=df_NHS[(cond1) | (cond2)]\n",
    "#df_NHS['RHC']=np.where(df_NHS[(cond1) | (cond2)| (cond3) |(cond4) | (cond5) | (cond6)| (cond7) | (cond8)], 1,0)\n",
    "df_NHS['RHC']=cond1 | cond2 | cond3 | cond4 | cond5 | cond6 |cond7 |cond8 | cond9 | cond10\n",
    "df_NHS['RHC'].value_counts()"
   ]
  },
  {
   "cell_type": "code",
   "execution_count": 361,
   "metadata": {},
   "outputs": [
    {
     "data": {
      "text/plain": [
       "590"
      ]
     },
     "execution_count": 361,
     "metadata": {},
     "output_type": "execute_result"
    }
   ],
   "source": [
    "#positive patients are those withRHC ==True\n",
    "#there are patients that did more than one RHC --> which one we have to keep?\n",
    "len(df_NHS[df_NHS['RHC']==True].ENCRYPTED_HESID.unique())"
   ]
  },
  {
   "cell_type": "code",
   "execution_count": 362,
   "metadata": {},
   "outputs": [
    {
     "data": {
      "text/plain": [
       "False    12664\n",
       "True       602\n",
       "Name: RHC_at_SHF, dtype: int64"
      ]
     },
     "execution_count": 362,
     "metadata": {},
     "output_type": "execute_result"
    }
   ],
   "source": [
    "#finding patients that did a RHC at Sheffield\n",
    "#each row of the dataframe is still an event, ot grouped by patient\n",
    "cond1= df_NHS['RHC'] == True\n",
    "cond2= df_NHS['PROCODE3']==SHF_procode\n",
    "df_NHS['RHC_at_SHF']= cond1 & cond2\n",
    "df_NHS['RHC_at_SHF'].value_counts()"
   ]
  },
  {
   "cell_type": "code",
   "execution_count": 363,
   "metadata": {},
   "outputs": [
    {
     "name": "stdout",
     "output_type": "stream",
     "text": [
      "(13266, 5)\n",
      "545\n"
     ]
    },
    {
     "data": {
      "text/html": [
       "<div>\n",
       "<style>\n",
       "    .dataframe thead tr:only-child th {\n",
       "        text-align: right;\n",
       "    }\n",
       "\n",
       "    .dataframe thead th {\n",
       "        text-align: left;\n",
       "    }\n",
       "\n",
       "    .dataframe tbody tr th {\n",
       "        vertical-align: top;\n",
       "    }\n",
       "</style>\n",
       "<table border=\"1\" class=\"dataframe\">\n",
       "  <thead>\n",
       "    <tr style=\"text-align: right;\">\n",
       "      <th></th>\n",
       "      <th>ENCRYPTED_HESID</th>\n",
       "      <th>MYDOB</th>\n",
       "      <th>SEX</th>\n",
       "      <th>RHC</th>\n",
       "      <th>RHC_at_SHF</th>\n",
       "    </tr>\n",
       "  </thead>\n",
       "  <tbody>\n",
       "    <tr>\n",
       "      <th>0</th>\n",
       "      <td>18BAC692C0C58B5EE7E7DFD8E6C843CC</td>\n",
       "      <td>121938</td>\n",
       "      <td>1</td>\n",
       "      <td>False</td>\n",
       "      <td>False</td>\n",
       "    </tr>\n",
       "    <tr>\n",
       "      <th>1</th>\n",
       "      <td>F6C2FA7F10D852FD1B9308FF1F0437A9</td>\n",
       "      <td>061945</td>\n",
       "      <td>2</td>\n",
       "      <td>False</td>\n",
       "      <td>False</td>\n",
       "    </tr>\n",
       "    <tr>\n",
       "      <th>2</th>\n",
       "      <td>E2D507B62FFCEFBD2537D328D6539683</td>\n",
       "      <td>061934</td>\n",
       "      <td>2</td>\n",
       "      <td>False</td>\n",
       "      <td>False</td>\n",
       "    </tr>\n",
       "    <tr>\n",
       "      <th>3</th>\n",
       "      <td>950075F6906AA9E50AFAADD0023C818A</td>\n",
       "      <td>031959</td>\n",
       "      <td>1</td>\n",
       "      <td>False</td>\n",
       "      <td>False</td>\n",
       "    </tr>\n",
       "    <tr>\n",
       "      <th>4</th>\n",
       "      <td>F714475A05E6B6CD6ECE53EFCDD1A8C7</td>\n",
       "      <td>081960</td>\n",
       "      <td>2</td>\n",
       "      <td>False</td>\n",
       "      <td>False</td>\n",
       "    </tr>\n",
       "    <tr>\n",
       "      <th>5</th>\n",
       "      <td>97D68FF299839021EBF678DE5104CF93</td>\n",
       "      <td>081938</td>\n",
       "      <td>1</td>\n",
       "      <td>False</td>\n",
       "      <td>False</td>\n",
       "    </tr>\n",
       "    <tr>\n",
       "      <th>6</th>\n",
       "      <td>3925B11DB46E1316EC210AD57C820BAB</td>\n",
       "      <td>111932</td>\n",
       "      <td>1</td>\n",
       "      <td>False</td>\n",
       "      <td>False</td>\n",
       "    </tr>\n",
       "    <tr>\n",
       "      <th>7</th>\n",
       "      <td>CAB31E38A091E720FAD521855513BAB9</td>\n",
       "      <td>081944</td>\n",
       "      <td>2</td>\n",
       "      <td>False</td>\n",
       "      <td>False</td>\n",
       "    </tr>\n",
       "    <tr>\n",
       "      <th>8</th>\n",
       "      <td>8B93A215CA4B4489319ABFFF2EF27541</td>\n",
       "      <td>091960</td>\n",
       "      <td>1</td>\n",
       "      <td>False</td>\n",
       "      <td>False</td>\n",
       "    </tr>\n",
       "    <tr>\n",
       "      <th>9</th>\n",
       "      <td>B92B90FD4C2DFD2128D71F3878EC8A97</td>\n",
       "      <td>081946</td>\n",
       "      <td>2</td>\n",
       "      <td>False</td>\n",
       "      <td>False</td>\n",
       "    </tr>\n",
       "  </tbody>\n",
       "</table>\n",
       "</div>"
      ],
      "text/plain": [
       "                    ENCRYPTED_HESID   MYDOB SEX    RHC  RHC_at_SHF\n",
       "0  18BAC692C0C58B5EE7E7DFD8E6C843CC  121938   1  False       False\n",
       "1  F6C2FA7F10D852FD1B9308FF1F0437A9  061945   2  False       False\n",
       "2  E2D507B62FFCEFBD2537D328D6539683  061934   2  False       False\n",
       "3  950075F6906AA9E50AFAADD0023C818A  031959   1  False       False\n",
       "4  F714475A05E6B6CD6ECE53EFCDD1A8C7  081960   2  False       False\n",
       "5  97D68FF299839021EBF678DE5104CF93  081938   1  False       False\n",
       "6  3925B11DB46E1316EC210AD57C820BAB  111932   1  False       False\n",
       "7  CAB31E38A091E720FAD521855513BAB9  081944   2  False       False\n",
       "8  8B93A215CA4B4489319ABFFF2EF27541  091960   1  False       False\n",
       "9  B92B90FD4C2DFD2128D71F3878EC8A97  081946   2  False       False"
      ]
     },
     "execution_count": 363,
     "metadata": {},
     "output_type": "execute_result"
    }
   ],
   "source": [
    "df_NHS_final=df_NHS.drop(opertn,axis=1)\n",
    "df_NHS_final= df_NHS_final.drop('PROCODE3',axis=1)\n",
    "print(df_NHS_final.shape)\n",
    "#this is the number of patients that did at least one RHC at Sheffield\n",
    "print(len(df_NHS_final[df_NHS['RHC_at_SHF']==True].ENCRYPTED_HESID.unique()))\n",
    "df_NHS_final.head(10)"
   ]
  },
  {
   "cell_type": "code",
   "execution_count": 364,
   "metadata": {},
   "outputs": [],
   "source": [
    "#manipulation on the date of birth to extract the year\n",
    "#df_NHS_final['MYDOB']=pd.to_datetime(df_NHS_final['MYDOB'],format='%b%Y', errors='ignore')\n",
    "#df_NHS_final['birth_year']=df_NHS_final['MYDOB'].apply(lambda x: x.year)\n",
    "\n",
    "df_NHS_final['birth_year']=df_NHS_final['MYDOB'].map(lambda x: x[2:])"
   ]
  },
  {
   "cell_type": "code",
   "execution_count": 365,
   "metadata": {},
   "outputs": [
    {
     "data": {
      "text/plain": [
       "0    1938\n",
       "1    1945\n",
       "Name: birth_year, dtype: object"
      ]
     },
     "execution_count": 365,
     "metadata": {},
     "output_type": "execute_result"
    }
   ],
   "source": [
    "df_NHS_final['birth_year'].head(2)"
   ]
  },
  {
   "cell_type": "code",
   "execution_count": 379,
   "metadata": {},
   "outputs": [],
   "source": [
    "#converting from string to integer\n",
    "df_NHS_final['birth_year']=df_NHS_final['birth_year'].map(lambda x: int(float(x)))"
   ]
  },
  {
   "cell_type": "code",
   "execution_count": 380,
   "metadata": {},
   "outputs": [
    {
     "data": {
      "text/plain": [
       "<matplotlib.axes._subplots.AxesSubplot at 0x7f8da7706470>"
      ]
     },
     "execution_count": 380,
     "metadata": {},
     "output_type": "execute_result"
    },
    {
     "data": {
      "image/png": "[encoded data removed]",
      "text/plain": [
       "<matplotlib.figure.Figure at 0x7f8da7a8ab00>"
      ]
     },
     "metadata": {},
     "output_type": "display_data"
    }
   ],
   "source": [
    "df_NHS_final['birth_year'].hist(bins=80)"
   ]
  },
  {
   "cell_type": "code",
   "execution_count": 330,
   "metadata": {},
   "outputs": [],
   "source": [
    "#collapse in a dataframe of unique patients"
   ]
  },
  {
   "cell_type": "markdown",
   "metadata": {},
   "source": [
    "### Collect info about positives in Sheffield database"
   ]
  },
  {
   "cell_type": "code",
   "execution_count": 313,
   "metadata": {},
   "outputs": [
    {
     "data": {
      "text/html": [
       "<div>\n",
       "<style>\n",
       "    .dataframe thead tr:only-child th {\n",
       "        text-align: right;\n",
       "    }\n",
       "\n",
       "    .dataframe thead th {\n",
       "        text-align: left;\n",
       "    }\n",
       "\n",
       "    .dataframe tbody tr th {\n",
       "        vertical-align: top;\n",
       "    }\n",
       "</style>\n",
       "<table border=\"1\" class=\"dataframe\">\n",
       "  <thead>\n",
       "    <tr style=\"text-align: right;\">\n",
       "      <th></th>\n",
       "      <th>STHFT_Study_ID</th>\n",
       "      <th>Sex$Item</th>\n",
       "      <th>Date_of_birth</th>\n",
       "      <th>Flag_RHC</th>\n",
       "      <th>District</th>\n",
       "    </tr>\n",
       "  </thead>\n",
       "  <tbody>\n",
       "    <tr>\n",
       "      <th>0</th>\n",
       "      <td>//Pc2tp//+P7aBWMQvoOkA==</td>\n",
       "      <td>NaN</td>\n",
       "      <td>NaT</td>\n",
       "      <td>NaN</td>\n",
       "      <td>NaN</td>\n",
       "    </tr>\n",
       "    <tr>\n",
       "      <th>1</th>\n",
       "      <td>//RxlcBjcresQ2VMLQR6+g==</td>\n",
       "      <td>F</td>\n",
       "      <td>1930-01-01</td>\n",
       "      <td>0.0</td>\n",
       "      <td>Manchester</td>\n",
       "    </tr>\n",
       "    <tr>\n",
       "      <th>2</th>\n",
       "      <td>//u35/ic3GHqRIw88szTwg==</td>\n",
       "      <td>F</td>\n",
       "      <td>1935-01-01</td>\n",
       "      <td>0.0</td>\n",
       "      <td>Bradford</td>\n",
       "    </tr>\n",
       "  </tbody>\n",
       "</table>\n",
       "</div>"
      ],
      "text/plain": [
       "             STHFT_Study_ID Sex$Item Date_of_birth  Flag_RHC    District\n",
       "0  //Pc2tp//+P7aBWMQvoOkA==      NaN           NaT       NaN         NaN\n",
       "1  //RxlcBjcresQ2VMLQR6+g==        F    1930-01-01       0.0  Manchester\n",
       "2  //u35/ic3GHqRIw88szTwg==        F    1935-01-01       0.0    Bradford"
      ]
     },
     "execution_count": 313,
     "metadata": {},
     "output_type": "execute_result"
    }
   ],
   "source": [
    "#there will be a 'ENCRYPTED_HESID' column\n",
    "Sheffdb_label_ID= 'STHFT_Study_ID'\n",
    "date_birth='Date_of_birth'\n",
    "gender='Sex$Item'\n",
    "has_rhc= 'Flag_RHC'\n",
    "#is this the right field to look at?\n",
    "hospital= 'District'\n",
    "\n",
    "cols_SFH=[Sheffdb_label_ID,gender,date_birth,has_rhc, hospital]\n",
    "df_SFH=pd.read_excel(Sheffdb_tablename)\n",
    "df_SFH=df_SFH[cols_SFH]\n",
    "df_SFH.head(3)"
   ]
  },
  {
   "cell_type": "code",
   "execution_count": 314,
   "metadata": {},
   "outputs": [],
   "source": [
    "#convert gender column in 1(Male) 2(Female)\n",
    "def code_sex(x):\n",
    "    \n",
    "    if x=='F' :\n",
    "        return 2\n",
    "    elif x=='M':\n",
    "        return 1\n",
    "    else:\n",
    "        return 0\n",
    "    \n",
    "df_SFH[gender]=df_SFH[gender].map(code_sex)"
   ]
  },
  {
   "cell_type": "code",
   "execution_count": 334,
   "metadata": {},
   "outputs": [],
   "source": [
    "#extract year of birth\n",
    "df_SFH[date_birth]=pd.to_datetime(df_SFH[date_birth],format='Y%d%b', errors='ignore')\n",
    "df_SFH['birth_year']=df_SFH[date_birth].apply(lambda x: x.year)"
   ]
  },
  {
   "cell_type": "code",
   "execution_count": 395,
   "metadata": {},
   "outputs": [
    {
     "data": {
      "image/png": "[encoded data removed]",
      "text/plain": [
       "<matplotlib.figure.Figure at 0x7f8da7bfe908>"
      ]
     },
     "metadata": {},
     "output_type": "display_data"
    }
   ],
   "source": [
    "#a visual check about the year of birth, distributions look similar but not identical (we still do not have the full dataset howver)\n",
    "bins=np.linspace(1903, 2003, 40)\n",
    "plt.hist(df_NHS_final['birth_year'].dropna(), bins, label='NHS Database', normed=True, alpha=0.8)\n",
    "plt.hist(df_SFH['birth_year'].dropna(), bins, label='Sheffield Databse', normed=True, alpha=0.8)\n",
    "plt.legend(loc='upper right')\n",
    "plt.show()"
   ]
  },
  {
   "cell_type": "code",
   "execution_count": 319,
   "metadata": {},
   "outputs": [
    {
     "data": {
      "text/plain": [
       "False    6504\n",
       "True      170\n",
       "Name: RHC_at SFH, dtype: int64"
      ]
     },
     "execution_count": 319,
     "metadata": {},
     "output_type": "execute_result"
    }
   ],
   "source": [
    "#create column RHC_at_SFH\n",
    "cond1=(df_SFH[has_rhc]== 1.0)\n",
    "cond2=(df_SFH[hospital]=='Sheffield') \n",
    "df_SFH['RHC_at SFH']=cond1 & cond2\n",
    "df_SFH['RHC_at SFH'].value_counts()"
   ]
  },
  {
   "cell_type": "markdown",
   "metadata": {},
   "source": [
    "### For each unique ID, check the correspondance between the daframes"
   ]
  },
  {
   "cell_type": "code",
   "execution_count": null,
   "metadata": {
    "collapsed": true
   },
   "outputs": [],
   "source": []
  }
 ],
 "metadata": {
  "kernelspec": {
   "display_name": "Python 3",
   "language": "python",
   "name": "python3"
  },
  "language_info": {
   "codemirror_mode": {
    "name": "ipython",
    "version": 3
   },
   "file_extension": ".py",
   "mimetype": "text/x-python",
   "name": "python",
   "nbconvert_exporter": "python",
   "pygments_lexer": "ipython3",
   "version": "3.6.1"
  }
 },
 "nbformat": 4,
 "nbformat_minor": 2
}
