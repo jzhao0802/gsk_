{
 "cells": [
  {
   "cell_type": "markdown",
   "metadata": {},
   "source": [
    "### Load data and filter it down to cols to keep"
   ]
  },
  {
   "cell_type": "code",
   "execution_count": 1,
   "metadata": {
    "collapsed": false
   },
   "outputs": [],
   "source": [
    "import pandas as pd\n",
    "import numpy as np"
   ]
  },
  {
   "cell_type": "code",
   "execution_count": 2,
   "metadata": {
    "collapsed": false
   },
   "outputs": [],
   "source": [
    "data = pd.read_csv(\"HES_Sample_APC.txt\", sep=\"\\t\", low_memory=False)\n",
    "cols_to_keep = pd.read_csv(\"cols_to_keep.csv\", header=None).values.ravel()"
   ]
  },
  {
   "cell_type": "code",
   "execution_count": 3,
   "metadata": {
    "collapsed": true
   },
   "outputs": [],
   "source": [
    "data = data.loc[:,cols_to_keep]"
   ]
  },
  {
   "cell_type": "markdown",
   "metadata": {},
   "source": [
    "### Save data into and SQLite DB"
   ]
  },
  {
   "cell_type": "code",
   "execution_count": 4,
   "metadata": {
    "collapsed": false
   },
   "outputs": [],
   "source": [
    "import sqlalchemy\n",
    "engine = sqlalchemy.create_engine('sqlite:///my_db.sqlite')\n",
    "data.to_sql('Resolved', engine, if_exists='append')"
   ]
  },
  {
   "cell_type": "markdown",
   "metadata": {},
   "source": [
    "### Aggregate primary and secondary diagnoses on patient level\n",
    "\n",
    "- First and foremost all ICD codes in the `DIAG_` columns have to be cleaned to only first four characters.\n",
    "- Then all `DIAG_` columns need to be trunkated to either 1, 2, 3, or 4 characters.\n",
    "- These are categorical variables so they need to be one hot encoded first. \n",
    "- ICD cdes of `DIAG_01` should become `DIAG_1_ICD`\n",
    "- ICD codes from either of `DIAG_02`-`DIAG_20` columns have to be merged into `DIAG_2_ICD`. \n",
    "\n",
    "Following the generation of dummy variables for the primary and secondary ICD codes we need t aggregate them\n",
    "- Each patient has several episodes (marked by `EPIKEY` columns). \n",
    "- Within each episode there could be several spells. \n",
    "- We want to aggregate ICD diagnoses codes on the patient level from all episodes but without counting them multiple times on the spell level. \n",
    "- So we will first aggregate on the episode level, if any ICD code has a count > 1 we set it to 1, then aggregate on patient level."
   ]
  },
  {
   "cell_type": "code",
   "execution_count": 50,
   "metadata": {
    "collapsed": false
   },
   "outputs": [],
   "source": [
    "def create_aggregated_diagnoses_table(data, ICD_trim=4):\n",
    "    # create list of ICD diagnoses columns\n",
    "    diag_cols = [\"DIAG_0\" + str(i+1) for i in range(9)] + [\"DIAG_\" + str(i+10) for i in range(11)]\n",
    "\n",
    "    # create function to clean and trim ICD codes to fixed length\n",
    "    def get_first_n_chars(df, cols, n):\n",
    "        df = df.copy()\n",
    "        def converter(col):\n",
    "            ICD_code = (col.astype(str)\n",
    "                        .str.replace(\"\\.\", \"\")\n",
    "                        .str.replace(\"-\", \"\")\n",
    "                        .str[:n])\n",
    "            return ICD_code\n",
    "        df[cols] = df[cols].apply(converter)\n",
    "        return df\n",
    "\n",
    "    # make trimmed ICD code data \n",
    "    data_ICD4 = data.pipe(get_first_n_chars, diag_cols, ICD_trim)\n",
    "\n",
    "    # generate dummy vars from primary diagnosis codes\n",
    "    diag_1_df = pd.get_dummies(data_ICD4.DIAG_01, prefix=\"DIAG_1\")\n",
    "\n",
    "    # generate dummy vars from primary diagnosis codes: DIAG_02\n",
    "    diag_2_df = pd.get_dummies(data_ICD4[diag_cols[1]], prefix=\"DIAG_2\")\n",
    "\n",
    "    # generate dummies from and add all other secondary diagnoses codes DIAG_03 - DIAG_20 to DIAG_02\n",
    "    diag_2_df = diag_2_df.astype(dtype=np.float64)\n",
    "    for col in diag_cols[2:]:\n",
    "        print(col)\n",
    "        dummy_tmp = pd.get_dummies(data_ICD4[col], prefix=\"DIAG_2\")\n",
    "        dummy_tmp = dummy_tmp.astype(dtype=np.float64)\n",
    "        diag_2_df = diag_2_df.add(dummy_tmp, fill_value=0)\n",
    "\n",
    "    # create table of patient ids with episode ids as index\n",
    "    ids = data[[\"ENCRYPTED_HESID\", \"EPIKEY\"]]\n",
    "    ids = ids.set_index(\"EPIKEY\")\n",
    "\n",
    "    # concatenate episode keys with the icd diagnoses tables\n",
    "    diag_df = pd.concat([data[\"EPIKEY\"], diag_1_df, diag_2_df], axis=1)\n",
    "\n",
    "    # aggregate on episode level, then correct if there were multiple spells\n",
    "    epi_level_agg = diag_df.groupby(\"EPIKEY\").sum()\n",
    "    #ela_larger_than_one_mask = (epi_level_agg > 1).values\n",
    "    epi_level_agg[epi_level_agg > 1] = 1\n",
    "\n",
    "    # get patient ids for each of the aggregated episode keys\n",
    "    ids = ids.loc[epi_level_agg.index]\n",
    "\n",
    "    # join ICD tables with patient ids series, on episode ids \n",
    "    epi_level_agg = ids.join(epi_level_agg)\n",
    "\n",
    "    # unstack episode ids as index in the aggregated ICD table\n",
    "    epi_level_agg.reset_index(level=0, inplace=True)\n",
    "\n",
    "    # group on patient level, we need to sum diag vars, but count epikeys\n",
    "    agg_funcs = {c:\"sum\" if c!=\"EPIKEY\" else \"count\" for c in epi_level_agg.columns}\n",
    "    \n",
    "    # delete the patient ids from the dict as we'll group by that variable\n",
    "    agg_funcs.pop('ENCRYPTED_HESID', None)\n",
    "    \n",
    "    # get aggregates on patient level\n",
    "    patient_level_agg = epi_level_agg.groupby('ENCRYPTED_HESID').agg(agg_funcs)\n",
    "\n",
    "    # unstack patient ids as index \n",
    "    patient_level_agg.reset_index(level=0, inplace=True)\n",
    "\n",
    "    return patient_level_agg"
   ]
  },
  {
   "cell_type": "code",
   "execution_count": 51,
   "metadata": {
    "collapsed": false,
    "scrolled": true
   },
   "outputs": [
    {
     "name": "stdout",
     "output_type": "stream",
     "text": [
      "DIAG_03\n",
      "DIAG_04\n",
      "DIAG_05\n",
      "DIAG_06\n",
      "DIAG_07\n",
      "DIAG_08\n",
      "DIAG_09\n",
      "DIAG_10\n",
      "DIAG_11\n",
      "DIAG_12\n",
      "DIAG_13\n",
      "DIAG_14\n",
      "DIAG_15\n",
      "DIAG_16\n",
      "DIAG_17\n",
      "DIAG_18\n",
      "DIAG_19\n",
      "DIAG_20\n",
      "DIAG_03\n",
      "DIAG_04\n",
      "DIAG_05\n",
      "DIAG_06\n",
      "DIAG_07\n",
      "DIAG_08\n",
      "DIAG_09\n",
      "DIAG_10\n",
      "DIAG_11\n",
      "DIAG_12\n",
      "DIAG_13\n",
      "DIAG_14\n",
      "DIAG_15\n",
      "DIAG_16\n",
      "DIAG_17\n",
      "DIAG_18\n",
      "DIAG_19\n",
      "DIAG_20\n",
      "DIAG_03\n",
      "DIAG_04\n",
      "DIAG_05\n",
      "DIAG_06\n",
      "DIAG_07\n",
      "DIAG_08\n",
      "DIAG_09\n",
      "DIAG_10\n",
      "DIAG_11\n",
      "DIAG_12\n",
      "DIAG_13\n",
      "DIAG_14\n",
      "DIAG_15\n",
      "DIAG_16\n",
      "DIAG_17\n",
      "DIAG_18\n",
      "DIAG_19\n",
      "DIAG_20\n",
      "DIAG_03\n",
      "DIAG_04\n",
      "DIAG_05\n",
      "DIAG_06\n",
      "DIAG_07\n",
      "DIAG_08\n",
      "DIAG_09\n",
      "DIAG_10\n",
      "DIAG_11\n",
      "DIAG_12\n",
      "DIAG_13\n",
      "DIAG_14\n",
      "DIAG_15\n",
      "DIAG_16\n",
      "DIAG_17\n",
      "DIAG_18\n",
      "DIAG_19\n",
      "DIAG_20\n"
     ]
    }
   ],
   "source": [
    "icd_4 = create_aggregated_diagnoses_table(data, 4)\n",
    "icd_4.to_csv(\"apc_icd_4.csv\")\n",
    "icd_3 = create_aggregated_diagnoses_table(data, 3)\n",
    "icd_3.to_csv(\"apc_icd_3.csv\")\n",
    "icd_2 = create_aggregated_diagnoses_table(data, 2)\n",
    "icd_2.to_csv(\"apc_icd_2.csv\")\n",
    "icd_1 = create_aggregated_diagnoses_table(data, 1)\n",
    "icd_1.to_csv(\"apc_icd_1.csv\")"
   ]
  }
 ],
 "metadata": {
  "kernelspec": {
   "display_name": "Python 3",
   "language": "python",
   "name": "python3"
  },
  "language_info": {
   "codemirror_mode": {
    "name": "ipython",
    "version": 3
   },
   "file_extension": ".py",
   "mimetype": "text/x-python",
   "name": "python",
   "nbconvert_exporter": "python",
   "pygments_lexer": "ipython3",
   "version": "3.6.0"
  }
 },
 "nbformat": 4,
 "nbformat_minor": 2
}
