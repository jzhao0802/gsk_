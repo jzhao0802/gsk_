{
 "cells": [
  {
   "cell_type": "markdown",
   "metadata": {},
   "source": [
    "# HES Tables - scripts for initial merging"
   ]
  },
  {
   "cell_type": "markdown",
   "metadata": {},
   "source": [
    "In this script I prepare some functions for:\n",
    "\n",
    "* separating positive and negative cohort, for each table\n",
    "\n",
    "* merging the initial tables by year, for each dataset"
   ]
  },
  {
   "cell_type": "code",
   "execution_count": 1,
   "metadata": {},
   "outputs": [],
   "source": [
    "import pandas as pd\n",
    "import numpy as np\n",
    "import random"
   ]
  },
  {
   "cell_type": "code",
   "execution_count": 2,
   "metadata": {
    "collapsed": true
   },
   "outputs": [],
   "source": [
    "data_path=\"./sample_HES/\"\n",
    "file1= \"HES_Sample_APC.txt\"\n",
    "filename=data_path+file1"
   ]
  },
  {
   "cell_type": "code",
   "execution_count": 63,
   "metadata": {},
   "outputs": [
    {
     "name": "stderr",
     "output_type": "stream",
     "text": [
      "C:\\ProgramData\\Miniconda3\\lib\\site-packages\\ipykernel_launcher.py:4: DeprecationWarning: \n",
      ".ix is deprecated. Please use\n",
      ".loc for label based indexing or\n",
      ".iloc for positional indexing\n",
      "\n",
      "See the documentation here:\n",
      "http://pandas.pydata.org/pandas-docs/stable/indexing.html#deprecate_ix\n",
      "  after removing the cwd from sys.path.\n"
     ]
    }
   ],
   "source": [
    "#create mock list of positive patient IDs\n",
    "df=pd.read_csv(filename, sep=\"\\t\", low_memory=False)\n",
    "sample_rows = random.sample(list(df.ENCRYPTED_HESID), 50)\n",
    "mock_pos = df[\"ENCRYPTED_HESID\"].ix[sample_rows]\n",
    "mock_pos.to_csv(\"./sample_HES/HES_APC_PosIDs.txt\", sep=\"\\t\")"
   ]
  },
  {
   "cell_type": "code",
   "execution_count": 3,
   "metadata": {},
   "outputs": [],
   "source": [
    "#function that creates appropriate names for new files, maintaing the same extension\n",
    "#it tries to take in account that the filename might be a full path with initial ./\n",
    "def outfile_name(filename, suffix):\n",
    "    name=filename.split(\".\")\n",
    "    if len(name)==2 :\n",
    "        nameout=[name[0]+suffix, name[1]]   \n",
    "    else:\n",
    "        nameout=[\"\",name[1]+suffix, name[2]]\n",
    "    return \".\".join(nameout)"
   ]
  },
  {
   "cell_type": "code",
   "execution_count": 4,
   "metadata": {},
   "outputs": [],
   "source": [
    "#function that extract positive cohort (for each table)\n",
    "def create_positive_cohort(filename, IDcol_label, pos_IDs, sep=\"\\t\", suffix_out=\"_pos\"):\n",
    "    \"\"\"\n",
    "    --Parameters--\n",
    "    filename: str \n",
    "              File path of the table\n",
    "    IDcol_label: str \n",
    "                 Name of the column that contains the patient IDS (different for each type of dataset)\n",
    "    pos_IDs: str \n",
    "             File path of the positive IDs file\n",
    "    sep: str \n",
    "         File separator for read_csv\n",
    "    suffix_out: str\n",
    "         Suffix that defines the positive cohort files\n",
    "    --Returns--\n",
    "    \"\"\"\n",
    "    df=pd.read_csv(filename, sep=sep, low_memory=False)\n",
    "    pos_IDs=pd.read_csv(pos_IDs, sep=\"\\t\", low_memory=False)\n",
    "    pos_df=df[df[IDcol_label].isin(pos_IDs)]\n",
    "    fileout=outfile_name(filename, suffix_out)\n",
    "    pos_df.to_csv(fileout,sep=sep,index=False)\n",
    "    return "
   ]
  },
  {
   "cell_type": "code",
   "execution_count": 86,
   "metadata": {},
   "outputs": [
    {
     "data": {
      "text/plain": [
       "'./sample_HES/HES_Sample_APC_pos.txt'"
      ]
     },
     "execution_count": 86,
     "metadata": {},
     "output_type": "execute_result"
    }
   ],
   "source": [
    "outfile_name(filename, suffix=\"_pos\")"
   ]
  },
  {
   "cell_type": "code",
   "execution_count": 87,
   "metadata": {},
   "outputs": [
    {
     "name": "stdout",
     "output_type": "stream",
     "text": [
      "./sample_HES/HES_Sample_APC.txt\n"
     ]
    }
   ],
   "source": [
    "create_positive_cohort (filename, \"ENCRYPTED_HESID\", \"./sample_HES/HES_APC_PosIDs.txt\", sep=\"\\t\", suffix_out=\"_pos\")"
   ]
  },
  {
   "cell_type": "code",
   "execution_count": 5,
   "metadata": {
    "collapsed": true
   },
   "outputs": [],
   "source": [
    "#function that filter out positive cohort (for each table)\n",
    "def create_negative_cohort (filename, IDcol_label, pos_IDs, sep=\"\\t\", suffix_out=\"_neg\"):\n",
    "    \"\"\"\n",
    "    --Parameters--\n",
    "    filename: str \n",
    "              File path of the table\n",
    "    IDcol_label: str \n",
    "                 Name of the column that contains the patient IDS (different for each type of dataset)\n",
    "    pos_IDs: str \n",
    "             File path of the positive IDs file\n",
    "    sep: str \n",
    "         File separator for read_csv\n",
    "    suffix_out: str\n",
    "         Suffix that defines the negative cohort files\n",
    "    --Returns--\n",
    "    \"\"\"\n",
    "    df=pd.read_csv(filename, sep=sep, low_memory=False)\n",
    "    pos_IDs=pd.read_csv(pos_IDs, sep=\"\\t\", low_memory=False)\n",
    "    neg_df=df[~df[IDcol_label].isin(pos_IDs)]\n",
    "    fileout=outfile_name(filename, suffix_out)\n",
    "    neg_df.to_csv(fileout,sep=sep,index=False)\n",
    "    return "
   ]
  },
  {
   "cell_type": "code",
   "execution_count": 90,
   "metadata": {
    "collapsed": true
   },
   "outputs": [],
   "source": [
    "create_negative_cohort (filename, \"ENCRYPTED_HESID\", \"./sample_HES/HES_APC_PosIDs.txt\", sep=\"\\t\", suffix_out=\"_neg\")"
   ]
  },
  {
   "cell_type": "code",
   "execution_count": 6,
   "metadata": {},
   "outputs": [
    {
     "data": {
      "text/plain": [
       "(0, 475)"
      ]
     },
     "execution_count": 6,
     "metadata": {},
     "output_type": "execute_result"
    }
   ],
   "source": [
    "#Test: inner join of positive and negative cohorts must be empty\n",
    "pos=pd.read_csv(\"./sample_HES/HES_Sample_APC_pos.txt\", sep=\"\\t\", low_memory=False)\n",
    "neg=pd.read_csv(\"./sample_HES/HES_Sample_APC_neg.txt\", sep=\"\\t\", low_memory=False)\n",
    "\n",
    "merged_inner = neg.merge(pos, left_on='ENCRYPTED_HESID', right_on='ENCRYPTED_HESID', how='inner')\n",
    "\n",
    "# what's the size of the output data?\n",
    "merged_inner.shape"
   ]
  },
  {
   "cell_type": "code",
   "execution_count": null,
   "metadata": {
    "collapsed": true
   },
   "outputs": [],
   "source": []
  }
 ],
 "metadata": {
  "kernelspec": {
   "display_name": "Python 3",
   "language": "python",
   "name": "python3"
  },
  "language_info": {
   "codemirror_mode": {
    "name": "ipython",
    "version": 3
   },
   "file_extension": ".py",
   "mimetype": "text/x-python",
   "name": "python",
   "nbconvert_exporter": "python",
   "pygments_lexer": "ipython3",
   "version": "3.6.1"
  }
 },
 "nbformat": 4,
 "nbformat_minor": 2
}
