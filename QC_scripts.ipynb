{
 "cells": [
  {
   "cell_type": "markdown",
   "metadata": {},
   "source": [
    "This file contains some functions for the QC steps. Functions are tested on an APC table.\n",
    "I assume the tables from different years are merged."
   ]
  },
  {
   "cell_type": "markdown",
   "metadata": {},
   "source": [
    "# Connection"
   ]
  },
  {
   "cell_type": "code",
   "execution_count": 1,
   "metadata": {
    "collapsed": true
   },
   "outputs": [],
   "source": [
    "import pandas as pd\n",
    "import pyodbc\n",
    "import sqlalchemy"
   ]
  },
  {
   "cell_type": "code",
   "execution_count": 2,
   "metadata": {},
   "outputs": [
    {
     "name": "stderr",
     "output_type": "stream",
     "text": [
      "/home/vsalvatelli/anaconda3/lib/python3.6/site-packages/sqlalchemy/connectors/pyodbc.py:92: SAWarning: No driver name specified; this is expected by PyODBC when using DSN-less connections\n",
      "  \"No driver name specified; \"\n"
     ]
    }
   ],
   "source": [
    "def connect():\n",
    "    return pyodbc.connect(\n",
    "        'DRIVER={/usr/lib/x86_64-linux-gnu/odbc/libtdsodbc.so}; SERVER=192.168.5.78;'\n",
    "        'DATABASE=IMS-NHSDigital;UID=sa;PWD=2HsxpmkDLSlHlT;port=1433;'\n",
    "        'TDS_Version=8.0;')\n",
    "engine = sqlalchemy.create_engine('mssql+pyodbc://', creator=connect)\n",
    "conn = engine.connect()"
   ]
  },
  {
   "cell_type": "markdown",
   "metadata": {},
   "source": [
    "# Check ID positive patients"
   ]
  },
  {
   "cell_type": "markdown",
   "metadata": {},
   "source": [
    "Check that positive patients in IMS-NHSDigital database corresponds to the positive patients in Shieffield database (table from Flora) in terms of:\n",
    "\n",
    "* HES ID\n",
    "* birth year\n",
    "* gender\n",
    "* whether or not they had heart catherer at Sheffield"
   ]
  },
  {
   "cell_type": "markdown",
   "metadata": {},
   "source": [
    "### Collect info about positives in IMS-NHSDigital"
   ]
  },
  {
   "cell_type": "code",
   "execution_count": 6,
   "metadata": {},
   "outputs": [],
   "source": [
    "#Tablename will be something like APC_positive\n",
    "tablename='dbo.NIC58999_APC_Linkage_201299'\n",
    "label_ID= 'ENCRYPTED_HESID'\n",
    "date_birth= 'DOB'\n",
    "gender='SEX'\n",
    "opertn=\n",
    "hospital=\n",
    "query= 'SELECT '+ label_ID+ ' from ' + tablename \n",
    "\n",
    "positive_IDs= pd.read_sql(query, conn)['ENCRYPTED_HESID'].unique()"
   ]
  },
  {
   "cell_type": "code",
   "execution_count": null,
   "metadata": {
    "collapsed": true
   },
   "outputs": [],
   "source": [
    "oper_cols = [\"OPERTN_0\" + str(i+1) for i in range(9)] + [\"OPERTN_\" + str(i+10) for i in range(15)]\n",
    "#code heart 93451"
   ]
  },
  {
   "cell_type": "markdown",
   "metadata": {},
   "source": [
    "### Collect info about positives in Sheffield database"
   ]
  },
  {
   "cell_type": "code",
   "execution_count": 8,
   "metadata": {
    "collapsed": true
   },
   "outputs": [],
   "source": [
    "Sheffdb_tablename= '/home/vsalvatelli/SharedData/Patient_group_file_SQL_v2.xlsx'\n",
    "#this will be 'ENCRYPTED_HESID'\n",
    "Sheffdb_label_ID= 'STHFT_Study_ID'\n",
    "#we don't have date of birth!\n",
    "date_birth='Date_of_birth'\n",
    "gender='Sex$Item'\n",
    "opertn= 'Flag_RHC'\n",
    "hospital= 'District'\n",
    "\n",
    "#these should be already unique IDs, but just in case\n",
    "Sheffield_pos_IDs=pd.read_excel(Sheffdb_tablename)[Sheffdb_label_ID].unique()"
   ]
  },
  {
   "cell_type": "code",
   "execution_count": 9,
   "metadata": {},
   "outputs": [
    {
     "data": {
      "text/plain": [
       "['STHFT_Study_ID',\n",
       " 'Infoflex',\n",
       " 'Sphinx',\n",
       " 'PhResearchDatabase',\n",
       " 'Infoflex_patient_primarykey',\n",
       " 'Sthnumber$Text',\n",
       " 'Disease',\n",
       " 'PH_subgroup',\n",
       " 'PH_Cohort',\n",
       " 'Cohort_diagnosis_group',\n",
       " 'Pathway_Group',\n",
       " 'Age_group',\n",
       " 'Sex$Item',\n",
       " 'Whofunctionalclass$Item',\n",
       " 'Dx_pre_visit',\n",
       " 'GP_postcode',\n",
       " 'Region',\n",
       " 'District_Code',\n",
       " 'District',\n",
       " 'Flag_RHC',\n",
       " 'CI_category',\n",
       " 'CH_post_2009_referral',\n",
       " 'CH_post_2009_visit',\n",
       " 'CH_post_2013_referral',\n",
       " 'CH_post_2013_visit',\n",
       " 'Date_of_birth',\n",
       " 'Date_of_death',\n",
       " 'Date_1st_referral',\n",
       " 'Date_1st_visit',\n",
       " 'Date_1st_RHC',\n",
       " 'Date_1st_diagnosis']"
      ]
     },
     "execution_count": 9,
     "metadata": {},
     "output_type": "execute_result"
    }
   ],
   "source": [
    "list(Sheffield_pos_IDs)"
   ]
  },
  {
   "cell_type": "code",
   "execution_count": 7,
   "metadata": {},
   "outputs": [
    {
     "data": {
      "text/plain": [
       "3376"
      ]
     },
     "execution_count": 7,
     "metadata": {},
     "output_type": "execute_result"
    }
   ],
   "source": [
    "#first check\n",
    "#Are the IDs the same?\n"
   ]
  },
  {
   "cell_type": "code",
   "execution_count": null,
   "metadata": {
    "collapsed": true
   },
   "outputs": [],
   "source": []
  }
 ],
 "metadata": {
  "kernelspec": {
   "display_name": "Python 3",
   "language": "python",
   "name": "python3"
  },
  "language_info": {
   "codemirror_mode": {
    "name": "ipython",
    "version": 3
   },
   "file_extension": ".py",
   "mimetype": "text/x-python",
   "name": "python",
   "nbconvert_exporter": "python",
   "pygments_lexer": "ipython3",
   "version": "3.6.1"
  }
 },
 "nbformat": 4,
 "nbformat_minor": 2
}
