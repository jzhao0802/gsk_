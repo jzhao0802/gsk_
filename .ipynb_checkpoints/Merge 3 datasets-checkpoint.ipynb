{
 "cells": [
  {
   "cell_type": "markdown",
   "metadata": {},
   "source": [
    "Load in all 3 mock datasets, filter them down to the columns we'll be using, make sure they have the same number of features, then concatenate them and save the resulting merged data frame."
   ]
  },
  {
   "cell_type": "code",
   "execution_count": 2,
   "metadata": {
    "collapsed": false
   },
   "outputs": [],
   "source": [
    "import pandas as pd\n",
    "import numpy as np\n",
    "\n",
    "# APC\n",
    "apc = pd.read_csv(\"HES_Sample_APC.txt\", sep=\"\\t\", low_memory=False)\n",
    "cols_to_keep = pd.read_csv(\"cols_to_keep.csv\", header=None).values.ravel()\n",
    "apc = apc.loc[:,cols_to_keep]\n",
    "\n",
    "# AE\n",
    "ae = pd.read_csv(\"HES_Sample_AE.txt\", sep=\"\\t\", low_memory=False)\n",
    "cols_to_keep = pd.read_csv(\"cols_to_keep.csv\", header=None).values.ravel()\n",
    "ae = ae.loc[:,cols_to_keep]\n",
    "\n",
    "# OP\n",
    "op = pd.read_csv(\"HES_Sample_OP.txt\", sep=\"\\t\", low_memory=False)\n",
    "cols_to_keep = pd.read_csv(\"cols_to_keep.csv\", header=None).values.ravel()\n",
    "op = op.loc[:,cols_to_keep]"
   ]
  },
  {
   "cell_type": "code",
   "execution_count": 3,
   "metadata": {
    "collapsed": false
   },
   "outputs": [
    {
     "data": {
      "text/plain": [
       "(19112, 97)"
      ]
     },
     "execution_count": 3,
     "metadata": {},
     "output_type": "execute_result"
    }
   ],
   "source": [
    "apc.shape"
   ]
  },
  {
   "cell_type": "code",
   "execution_count": 4,
   "metadata": {
    "collapsed": false
   },
   "outputs": [
    {
     "data": {
      "text/plain": [
       "(8734, 97)"
      ]
     },
     "execution_count": 4,
     "metadata": {},
     "output_type": "execute_result"
    }
   ],
   "source": [
    "ae.shape"
   ]
  },
  {
   "cell_type": "code",
   "execution_count": 5,
   "metadata": {
    "collapsed": false
   },
   "outputs": [
    {
     "data": {
      "text/plain": [
       "(62827, 97)"
      ]
     },
     "execution_count": 5,
     "metadata": {},
     "output_type": "execute_result"
    }
   ],
   "source": [
    "op.shape"
   ]
  },
  {
   "cell_type": "code",
   "execution_count": 8,
   "metadata": {
    "collapsed": false
   },
   "outputs": [],
   "source": [
    "merged_df = pd.concat([apc, ae, op])\n",
    "merged_df.shape\n",
    "merged_df.to_csv(\"merged_mock.csv\")"
   ]
  }
 ],
 "metadata": {
  "kernelspec": {
   "display_name": "Python 3",
   "language": "python",
   "name": "python3"
  },
  "language_info": {
   "codemirror_mode": {
    "name": "ipython",
    "version": 3
   },
   "file_extension": ".py",
   "mimetype": "text/x-python",
   "name": "python",
   "nbconvert_exporter": "python",
   "pygments_lexer": "ipython3",
   "version": "3.6.0"
  }
 },
 "nbformat": 4,
 "nbformat_minor": 2
}
