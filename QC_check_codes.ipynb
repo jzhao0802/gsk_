{
 "cells": [
  {
   "cell_type": "markdown",
   "metadata": {},
   "source": [
    "This file contains some functions to check that ICD OPERTN, MAINSPEF and PROCODES codes match with the reference tables. Functions are tested on APC tables (positive and negative). I assume the tables from different years are merged."
   ]
  },
  {
   "cell_type": "markdown",
   "metadata": {},
   "source": [
    "# Connection"
   ]
  },
  {
   "cell_type": "code",
   "execution_count": 1,
   "metadata": {
    "collapsed": true
   },
   "outputs": [],
   "source": [
    "import pandas as pd\n",
    "import matplotlib.pyplot as plt\n",
    "import pyodbc\n",
    "import sqlalchemy\n",
    "import numpy as np\n",
    "\n",
    "%matplotlib inline"
   ]
  },
  {
   "cell_type": "code",
   "execution_count": 2,
   "metadata": {},
   "outputs": [
    {
     "name": "stderr",
     "output_type": "stream",
     "text": [
      "/home/vsalvatelli/anaconda3/lib/python3.6/site-packages/sqlalchemy/connectors/pyodbc.py:92: SAWarning: No driver name specified; this is expected by PyODBC when using DSN-less connections\n",
      "  \"No driver name specified; \"\n"
     ]
    }
   ],
   "source": [
    "def connect():\n",
    "    return pyodbc.connect(\n",
    "        'DRIVER={/usr/lib/x86_64-linux-gnu/odbc/libtdsodbc.so}; SERVER=192.168.5.78;'\n",
    "        'DATABASE=IMS-NHSDigital;UID=sa;PWD=2HsxpmkDLSlHlT;port=1433;'\n",
    "        'TDS_Version=8.0;')\n",
    "engine = sqlalchemy.create_engine('mssql+pyodbc://', creator=connect)\n",
    "conn = engine.connect()"
   ]
  },
  {
   "cell_type": "markdown",
   "metadata": {},
   "source": [
    "# Check on PROCODES"
   ]
  },
  {
   "cell_type": "markdown",
   "metadata": {},
   "source": [
    "Extract the unique set of hospitals (PROCODE) codes and provide patient count for each. Join this with the reference table for the PROCODE codes and flag those that do not match a code in the reference table."
   ]
  },
  {
   "cell_type": "code",
   "execution_count": 51,
   "metadata": {},
   "outputs": [
    {
     "name": "stdout",
     "output_type": "stream",
     "text": [
      "SELECT PROCODE from dbo.NIC58999_APC_Linkage_201299\n",
      "190\n",
      "SELECT PROCODE from dbo.NIC58999_APC_Linkage_201399\n",
      "244\n",
      "SELECT PROCODE from dbo.NIC58999_APC_Linkage_201499\n",
      "275\n",
      "SELECT PROCODE from dbo.NIC58999_APC_Linkage_201599\n",
      "296\n",
      "SELECT PROCODE from dbo.NIC58999_APC_Linkage_201613\n",
      "310\n"
     ]
    }
   ],
   "source": [
    "#extract codes\n",
    "table_list=['dbo.NIC58999_APC_Linkage_201299', \\\n",
    "            'dbo.NIC58999_APC_Linkage_201399', \\\n",
    "            'dbo.NIC58999_APC_Linkage_201499', \\\n",
    "            'dbo.NIC58999_APC_Linkage_201599',\\\n",
    "            'dbo.NIC58999_APC_Linkage_201613']\n",
    "\n",
    "label_ID=\"PROCODE\"\n",
    "\n",
    "unique_procodes=set()\n",
    "for tablename in table_list:\n",
    "    query= 'SELECT ' + label_ID  +' from ' + tablename\n",
    "    print(query)\n",
    "    procodes=pd.read_sql(query, conn)[label_ID].unique()\n",
    "    unique_procodes.update(procodes)\n",
    "    print(len(unique_procodes))\n",
    "\n",
    "#print(unique_procodes)\n",
    "#I suggest to count for those not matching if we just care about them"
   ]
  },
  {
   "cell_type": "code",
   "execution_count": 52,
   "metadata": {},
   "outputs": [
    {
     "name": "stderr",
     "output_type": "stream",
     "text": [
      "/home/vsalvatelli/anaconda3/lib/python3.6/site-packages/IPython/core/interactiveshell.py:2717: DtypeWarning: Columns (0,17) have mixed types. Specify dtype option on import or set low_memory=False.\n",
      "  interactivity=interactivity, compiler=compiler, result=result)\n"
     ]
    }
   ],
   "source": [
    "#reading reference codes\n",
    "ref_table='/home/vsalvatelli/SharedData/HES Reference Files/DimProvider.csv'\n",
    "ref_label_procode='ProviderCode'\n",
    "ref_procode=pd.read_csv(ref_table, delimiter=\"|\")[ref_label_procode].unique()"
   ]
  },
  {
   "cell_type": "code",
   "execution_count": 43,
   "metadata": {},
   "outputs": [
    {
     "data": {
      "text/plain": [
       "452"
      ]
     },
     "execution_count": 43,
     "metadata": {},
     "output_type": "execute_result"
    }
   ],
   "source": [
    "len(set(ref_procode))"
   ]
  },
  {
   "cell_type": "code",
   "execution_count": 53,
   "metadata": {},
   "outputs": [
    {
     "data": {
      "text/plain": [
       "False"
      ]
     },
     "execution_count": 53,
     "metadata": {},
     "output_type": "execute_result"
    }
   ],
   "source": [
    "#some codes are not matching\n",
    "unique_procodes.issubset(set(ref_procode))"
   ]
  },
  {
   "cell_type": "code",
   "execution_count": 61,
   "metadata": {},
   "outputs": [
    {
     "name": "stdout",
     "output_type": "stream",
     "text": [
      "0.8612903225806452\n"
     ]
    }
   ],
   "source": [
    "#many codes not matching: am I reading the right col??\n",
    "NM_procodes=[x for x in unique_procodes if x not in ref_procode]\n",
    "print(len(NM_procodes)/len(unique_procodes))"
   ]
  },
  {
   "cell_type": "code",
   "execution_count": null,
   "metadata": {
    "collapsed": true
   },
   "outputs": [],
   "source": []
  }
 ],
 "metadata": {
  "kernelspec": {
   "display_name": "Python 3",
   "language": "python",
   "name": "python3"
  },
  "language_info": {
   "codemirror_mode": {
    "name": "ipython",
    "version": 3
   },
   "file_extension": ".py",
   "mimetype": "text/x-python",
   "name": "python",
   "nbconvert_exporter": "python",
   "pygments_lexer": "ipython3",
   "version": "3.6.1"
  }
 },
 "nbformat": 4,
 "nbformat_minor": 2
}
