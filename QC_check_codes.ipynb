{
 "cells": [
  {
   "cell_type": "markdown",
   "metadata": {},
   "source": [
    "This file contains some functions to check that ICD OPERTN, MAINSPEF and PROCODES codes match with the reference tables. Functions are tested on APC tables (positive and negative). I assume the tables from different years are merged."
   ]
  },
  {
   "cell_type": "markdown",
   "metadata": {},
   "source": [
    "# Connection"
   ]
  },
  {
   "cell_type": "code",
   "execution_count": 1,
   "metadata": {
    "collapsed": true
   },
   "outputs": [],
   "source": [
    "import pandas as pd\n",
    "import matplotlib.pyplot as plt\n",
    "import pyodbc\n",
    "import sqlalchemy\n",
    "import numpy as np\n",
    "\n",
    "%matplotlib inline"
   ]
  },
  {
   "cell_type": "code",
   "execution_count": 2,
   "metadata": {},
   "outputs": [
    {
     "name": "stderr",
     "output_type": "stream",
     "text": [
      "/home/vsalvatelli/anaconda3/lib/python3.6/site-packages/sqlalchemy/connectors/pyodbc.py:92: SAWarning: No driver name specified; this is expected by PyODBC when using DSN-less connections\n",
      "  \"No driver name specified; \"\n"
     ]
    }
   ],
   "source": [
    "def connect():\n",
    "    return pyodbc.connect(\n",
    "        'DRIVER={/usr/lib/x86_64-linux-gnu/odbc/libtdsodbc.so}; SERVER=192.168.5.78;'\n",
    "        'DATABASE=IMS-NHSDigital;UID=sa;PWD=2HsxpmkDLSlHlT;port=1433;'\n",
    "        'TDS_Version=8.0;')\n",
    "engine = sqlalchemy.create_engine('mssql+pyodbc://', creator=connect)\n",
    "conn = engine.connect()"
   ]
  },
  {
   "cell_type": "markdown",
   "metadata": {},
   "source": [
    "# Check on PROCODES"
   ]
  },
  {
   "cell_type": "markdown",
   "metadata": {},
   "source": [
    "Extract the unique set of hospitals (PROCODE) codes and provide patient count for each. Join this with the reference table for the PROCODE codes and flag those that do not match a code in the reference table."
   ]
  },
  {
   "cell_type": "code",
   "execution_count": 104,
   "metadata": {},
   "outputs": [
    {
     "name": "stdout",
     "output_type": "stream",
     "text": [
      "SELECT PROCODE3 from dbo.NIC58999_APC_Linkage_201299\n",
      "135\n",
      "SELECT PROCODE3 from dbo.NIC58999_APC_Linkage_201399\n",
      "158\n",
      "SELECT PROCODE3 from dbo.NIC58999_APC_Linkage_201499\n",
      "172\n",
      "SELECT PROCODE3 from dbo.NIC58999_APC_Linkage_201599\n",
      "181\n",
      "SELECT PROCODE3 from dbo.NIC58999_APC_Linkage_201613\n",
      "188\n"
     ]
    }
   ],
   "source": [
    "#extract codes\n",
    "table_list=['dbo.NIC58999_APC_Linkage_201299', \\\n",
    "            'dbo.NIC58999_APC_Linkage_201399', \\\n",
    "            'dbo.NIC58999_APC_Linkage_201499', \\\n",
    "            'dbo.NIC58999_APC_Linkage_201599',\\\n",
    "            'dbo.NIC58999_APC_Linkage_201613']\n",
    "\n",
    "label_ID=\"PROCODE3\"\n",
    "\n",
    "unique_procodes=set()\n",
    "for tablename in table_list:\n",
    "    query= 'SELECT ' + label_ID  +' from ' + tablename\n",
    "    print(query)\n",
    "    procodes=pd.read_sql(query, conn)[label_ID]\n",
    "    unique_procodes.update(procodes)\n",
    "    print(len(unique_procodes))\n",
    "\n",
    "#print(unique_procodes)\n",
    "#I suggest to count for those not matching if we just care about them"
   ]
  },
  {
   "cell_type": "code",
   "execution_count": 88,
   "metadata": {},
   "outputs": [
    {
     "data": {
      "text/plain": [
       "['RXE',\n",
       " 'RTG',\n",
       " 'NT2',\n",
       " 'RTX',\n",
       " 'RGR',\n",
       " 'RXQ',\n",
       " 'RHM',\n",
       " 'RR7',\n",
       " 'RKB',\n",
       " 'REN',\n",
       " 'RAN',\n",
       " 'RM3']"
      ]
     },
     "execution_count": 88,
     "metadata": {},
     "output_type": "execute_result"
    }
   ],
   "source": [
    "#if I use the procode col the majority of codes are 5 digits,\n",
    "#sometime endings with 00/01, sometimes with other letters or number\n",
    "list(unique_procodes)[0:12]"
   ]
  },
  {
   "cell_type": "code",
   "execution_count": 52,
   "metadata": {},
   "outputs": [
    {
     "name": "stderr",
     "output_type": "stream",
     "text": [
      "/home/vsalvatelli/anaconda3/lib/python3.6/site-packages/IPython/core/interactiveshell.py:2717: DtypeWarning: Columns (0,17) have mixed types. Specify dtype option on import or set low_memory=False.\n",
      "  interactivity=interactivity, compiler=compiler, result=result)\n"
     ]
    }
   ],
   "source": [
    "#reading reference codes\n",
    "ref_table='/home/vsalvatelli/SharedData/HES Reference Files/DimProvider.csv'\n",
    "ref_label_procode='ProviderCode'\n",
    "ref_procode=pd.read_csv(ref_table, delimiter=\"|\")[ref_label_procode].unique()"
   ]
  },
  {
   "cell_type": "code",
   "execution_count": 71,
   "metadata": {},
   "outputs": [
    {
     "data": {
      "text/plain": [
       "array(['------------', 'Missing', 'Unknown', '5A3', '5A4', '5A5', '5AT',\n",
       "       '5C1', '5C2', '5C3', '5C4', '5C5', '5C9', '5CN', '5CQ', '5F1',\n",
       "       '5FE', '5FL', '5GC', '5H8', '5J2', '5J9', '5JE', '5K3', '5K5',\n",
       "       '5K7', '5KG', '5KL', '5L1', '5L3'], dtype=object)"
      ]
     },
     "execution_count": 71,
     "metadata": {},
     "output_type": "execute_result"
    }
   ],
   "source": [
    "#the majority of reference codes are 3digit codes, seems sensible to use the procode3 from HES tables\n",
    "ref_procode[:30]"
   ]
  },
  {
   "cell_type": "code",
   "execution_count": 43,
   "metadata": {},
   "outputs": [
    {
     "data": {
      "text/plain": [
       "452"
      ]
     },
     "execution_count": 43,
     "metadata": {},
     "output_type": "execute_result"
    }
   ],
   "source": [
    "len(set(ref_procode))"
   ]
  },
  {
   "cell_type": "code",
   "execution_count": 66,
   "metadata": {},
   "outputs": [
    {
     "data": {
      "text/plain": [
       "False"
      ]
     },
     "execution_count": 66,
     "metadata": {},
     "output_type": "execute_result"
    }
   ],
   "source": [
    "#some codes are not matching\n",
    "unique_procodes.issubset(set(ref_procode))"
   ]
  },
  {
   "cell_type": "code",
   "execution_count": 89,
   "metadata": {},
   "outputs": [
    {
     "name": "stdout",
     "output_type": "stream",
     "text": [
      "0.010638297872340425\n",
      "['8E3', '8A1']\n"
     ]
    }
   ],
   "source": [
    "#about 1% of coding is not matching\n",
    "#if I use procode is about 90% ...\n",
    "NM_procodes=[x for x in unique_procodes if x not in ref_procode]\n",
    "print(len(NM_procodes)/len(unique_procodes))\n",
    "print(NM_procodes)"
   ]
  },
  {
   "cell_type": "code",
   "execution_count": 84,
   "metadata": {},
   "outputs": [],
   "source": [
    "ref_code_8=[x for x in ref_procode if x.startswith('8')]"
   ]
  },
  {
   "cell_type": "code",
   "execution_count": 85,
   "metadata": {},
   "outputs": [
    {
     "data": {
      "text/plain": [
       "['8A101',\n",
       " '8E339',\n",
       " '8F689',\n",
       " '8HP32',\n",
       " '8HP46',\n",
       " '8HT55',\n",
       " '8HT56',\n",
       " '8J124',\n",
       " '8J244',\n",
       " '8J248',\n",
       " '8J285',\n",
       " '8G301']"
      ]
     },
     "execution_count": 85,
     "metadata": {},
     "output_type": "execute_result"
    }
   ],
   "source": [
    "ref_code_8"
   ]
  },
  {
   "cell_type": "code",
   "execution_count": 86,
   "metadata": {
    "collapsed": true
   },
   "outputs": [],
   "source": [
    "#we might assume that 8E3 stands for 8A101 and 8E3 stands for 8E339\n",
    "#for what we use these codes after? useful to join with Provider Caption (contains the name of the provider)?"
   ]
  },
  {
   "cell_type": "code",
   "execution_count": 151,
   "metadata": {},
   "outputs": [],
   "source": [
    "#count occurencies for not matching codes\n",
    "NM_df=pd.DataFrame({label_ID: [],'counts': []})\n",
    "for code in NM_procodes:\n",
    "    for tablename in table_list:\n",
    "        query= 'SELECT ' + label_ID + ', COUNT(' + label_ID + ') AS counts' + ' from ' + tablename + \\\n",
    "        ' WHERE '+ label_ID + ' IS NOT NULL AND ' + label_ID +' = \\'' + code + '\\' GROUP BY ' + label_ID + ';'  \n",
    "        #print(query)\n",
    "        NM_df=NM_df.append(pd.read_sql(query, conn), ignore_index=True)"
   ]
  },
  {
   "cell_type": "code",
   "execution_count": 156,
   "metadata": {},
   "outputs": [
    {
     "data": {
      "text/plain": [
       "PROCODE3\n",
       "8A1    10.0\n",
       "8E3     3.0\n",
       "Name: counts, dtype: float64"
      ]
     },
     "execution_count": 156,
     "metadata": {},
     "output_type": "execute_result"
    }
   ],
   "source": [
    "#grouping the counts from different tables\n",
    "NM_df.groupby(label_ID)['counts'].sum()"
   ]
  },
  {
   "cell_type": "code",
   "execution_count": null,
   "metadata": {
    "collapsed": true
   },
   "outputs": [],
   "source": []
  }
 ],
 "metadata": {
  "kernelspec": {
   "display_name": "Python 3",
   "language": "python",
   "name": "python3"
  },
  "language_info": {
   "codemirror_mode": {
    "name": "ipython",
    "version": 3
   },
   "file_extension": ".py",
   "mimetype": "text/x-python",
   "name": "python",
   "nbconvert_exporter": "python",
   "pygments_lexer": "ipython3",
   "version": "3.6.1"
  }
 },
 "nbformat": 4,
 "nbformat_minor": 2
}
